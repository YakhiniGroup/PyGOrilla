{
 "cells": [
  {
   "cell_type": "code",
   "execution_count": 1,
   "metadata": {},
   "outputs": [],
   "source": [
    "import pyGOrilla\n",
    "import pandas as pd\n",
    "import logging"
   ]
  },
  {
   "cell_type": "code",
   "execution_count": 2,
   "metadata": {},
   "outputs": [],
   "source": [
    "logger = logging.getLogger()\n",
    "logger.setLevel(logging.INFO)\n",
    "go = pyGOrilla.GOrillaEvaluator()"
   ]
  },
  {
   "cell_type": "code",
   "execution_count": 3,
   "metadata": {},
   "outputs": [
    {
     "name": "stderr",
     "output_type": "stream",
     "text": [
      "INFO:root:Running on single file input\n",
      "INFO:root:polling results\n",
      "INFO:root: elapsed {12.717187881469727}\n"
     ]
    },
    {
     "data": {
      "text/html": [
       "<div>\n",
       "<style scoped>\n",
       "    .dataframe tbody tr th:only-of-type {\n",
       "        vertical-align: middle;\n",
       "    }\n",
       "\n",
       "    .dataframe tbody tr th {\n",
       "        vertical-align: top;\n",
       "    }\n",
       "\n",
       "    .dataframe thead th {\n",
       "        text-align: right;\n",
       "    }\n",
       "</style>\n",
       "<table border=\"1\" class=\"dataframe\">\n",
       "  <thead>\n",
       "    <tr style=\"text-align: right;\">\n",
       "      <th></th>\n",
       "      <th>GO term</th>\n",
       "      <th>Description</th>\n",
       "      <th>P-value</th>\n",
       "      <th>FDR q-value</th>\n",
       "      <th>Enrichment (N, B, n, b)</th>\n",
       "      <th>Genes</th>\n",
       "    </tr>\n",
       "  </thead>\n",
       "  <tbody>\n",
       "    <tr>\n",
       "      <th>1</th>\n",
       "      <td>GO:0022402</td>\n",
       "      <td>cell cycle process</td>\n",
       "      <td>7.28E-19</td>\n",
       "      <td>1.06E-14</td>\n",
       "      <td>2.73 (9106,611,552,101)</td>\n",
       "      <td>\\n[+] Show genes\\n \\r\\nRFC4  -  replication fa...</td>\n",
       "    </tr>\n",
       "    <tr>\n",
       "      <th>2</th>\n",
       "      <td>GO:1903047</td>\n",
       "      <td>mitotic cell cycle process</td>\n",
       "      <td>1.04E-16</td>\n",
       "      <td>7.58E-13</td>\n",
       "      <td>3.00 (9106,399,593,78)</td>\n",
       "      <td>\\n[+] Show genes\\n \\r\\nDONSON  -  downstream n...</td>\n",
       "    </tr>\n",
       "    <tr>\n",
       "      <th>3</th>\n",
       "      <td>GO:0007346</td>\n",
       "      <td>regulation of mitotic cell cycle</td>\n",
       "      <td>1.04E-12</td>\n",
       "      <td>5.06E-9</td>\n",
       "      <td>3.89 (9106,430,218,40)</td>\n",
       "      <td>\\n[+] Show genes\\n \\r\\nPKD1  -  polycystic kid...</td>\n",
       "    </tr>\n",
       "    <tr>\n",
       "      <th>4</th>\n",
       "      <td>GO:0010564</td>\n",
       "      <td>regulation of cell cycle process</td>\n",
       "      <td>6.64E-12</td>\n",
       "      <td>2.42E-8</td>\n",
       "      <td>3.46 (9106,512,221,43)</td>\n",
       "      <td>\\n[+] Show genes\\n \\r\\nPRC1  -  protein regula...</td>\n",
       "    </tr>\n",
       "    <tr>\n",
       "      <th>5</th>\n",
       "      <td>GO:1901990</td>\n",
       "      <td>regulation of mitotic cell cycle phase transition</td>\n",
       "      <td>4.44E-11</td>\n",
       "      <td>1.29E-7</td>\n",
       "      <td>4.45 (9106,284,216,30)</td>\n",
       "      <td>\\n[+] Show genes\\n \\r\\nPKD1  -  polycystic kid...</td>\n",
       "    </tr>\n",
       "  </tbody>\n",
       "</table>\n",
       "</div>"
      ],
      "text/plain": [
       "      GO term                                        Description   P-value  \\\n",
       "1  GO:0022402                                 cell cycle process  7.28E-19   \n",
       "2  GO:1903047                         mitotic cell cycle process  1.04E-16   \n",
       "3  GO:0007346                   regulation of mitotic cell cycle  1.04E-12   \n",
       "4  GO:0010564                   regulation of cell cycle process  6.64E-12   \n",
       "5  GO:1901990  regulation of mitotic cell cycle phase transition  4.44E-11   \n",
       "\n",
       "  FDR q-value  Enrichment (N, B, n, b)  \\\n",
       "1    1.06E-14  2.73 (9106,611,552,101)   \n",
       "2    7.58E-13   3.00 (9106,399,593,78)   \n",
       "3     5.06E-9   3.89 (9106,430,218,40)   \n",
       "4     2.42E-8   3.46 (9106,512,221,43)   \n",
       "5     1.29E-7   4.45 (9106,284,216,30)   \n",
       "\n",
       "                                               Genes  \n",
       "1  \\n[+] Show genes\\n \\r\\nRFC4  -  replication fa...  \n",
       "2  \\n[+] Show genes\\n \\r\\nDONSON  -  downstream n...  \n",
       "3  \\n[+] Show genes\\n \\r\\nPKD1  -  polycystic kid...  \n",
       "4  \\n[+] Show genes\\n \\r\\nPRC1  -  protein regula...  \n",
       "5  \\n[+] Show genes\\n \\r\\nPKD1  -  polycystic kid...  "
      ]
     },
     "execution_count": 3,
     "metadata": {},
     "output_type": "execute_result"
    }
   ],
   "source": [
    "test = go.evaluate_file_folder(r'VantVeerMoreLess5.txt')\n",
    "test.head()"
   ]
  }
 ],
 "metadata": {
  "kernelspec": {
   "display_name": "Python 3",
   "language": "python",
   "name": "python3"
  },
  "language_info": {
   "codemirror_mode": {
    "name": "ipython",
    "version": 3
   },
   "file_extension": ".py",
   "mimetype": "text/x-python",
   "name": "python",
   "nbconvert_exporter": "python",
   "pygments_lexer": "ipython3",
   "version": "3.7.1"
  }
 },
 "nbformat": 4,
 "nbformat_minor": 1
}
